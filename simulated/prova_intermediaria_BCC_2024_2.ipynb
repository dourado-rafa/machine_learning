{
 "cells": [
  {
   "cell_type": "markdown",
   "metadata": {},
   "source": [
    "# Prova Intermediária - Machine Learning\n",
    "\n",
    "**Nome do aluno**: <font color='red'>Escreva seu nome aqui</font>\n",
    "\n",
    "Você deve submeter o trabalho via Blackboard. É de sua responsabilidade garantir que o arquivo correto foi enviado.\n",
    "\n",
    "Se você precisou adicionar arquivos extras à essa prova, assegure-se de que você os está enviando também.\n",
    "\n",
    "A prova é individual e com consulta - pode consultar suas anotações, a web, o que quiser, menos perguntar para outros ou para as AIs. Faça o seu trabalho de maneira ética!\n",
    "\n",
    "ChatGPT para perguntas teóricas não é permitido. CoPilot para código é permitido."
   ]
  },
  {
   "cell_type": "code",
   "execution_count": 1,
   "metadata": {},
   "outputs": [],
   "source": [
    "from pathlib import Path\n",
    "\n",
    "import matplotlib.pyplot as plt\n",
    "import numpy as np\n",
    "import pandas as pd\n",
    "\n",
    "np.random.seed(42)"
   ]
  },
  {
   "cell_type": "markdown",
   "metadata": {},
   "source": [
    "\n",
    "---\n",
    "\n",
    "# Seção: Fundamentos"
   ]
  },
  {
   "cell_type": "markdown",
   "metadata": {},
   "source": [
    "\n",
    "---\n",
    "\n",
    "**Questão 1**: (2.5 pts) Matrizes e SVD\n",
    "\n"
   ]
  },
  {
   "cell_type": "markdown",
   "metadata": {},
   "source": [
    "(a) (0.5 pts) Vamos criar uma matriz $A_{100 \\times 4}$ de zeros:"
   ]
  },
  {
   "cell_type": "code",
   "execution_count": 2,
   "metadata": {},
   "outputs": [
    {
     "data": {
      "text/plain": [
       "(100, 4)"
      ]
     },
     "execution_count": 2,
     "metadata": {},
     "output_type": "execute_result"
    }
   ],
   "source": [
    "# Criando uma matriz de zeros de tamanho 100x4.\n",
    "A = np.zeros((100, 4))\n",
    "A.shape"
   ]
  },
  {
   "cell_type": "markdown",
   "metadata": {},
   "source": [
    "Agora preencha a matriz A com as seguintes especificações:\n",
    "\n",
    "- A coluna $1$ tem uma lista de inteiros de $1$ a $100$. Pode usar `list` e `range` padrão do Python, ou pode usar `np.arange` ou `np.linspace` (que provavelmente é o jeito mais fácil).\n",
    "- A coluna $2$ tem apenas o valor $1$ em todas as posições\n",
    "- A coluna $3$ tem os inteiros de $101$ a $200$, assim como foi feito para a coluna $1$\n",
    "- A coluna $4$ tem números aleatórios com distribuição gaussiana padrão (ou seja, média zero e desvio padrão $1$). Use a função `np.random.normal`.\n",
    "\n",
    "Nota: lembre-se que em Matemática os índices começam em $1$, mas em Python (e em C, C++, JavaScript, Java, Rust, Go, etc.) os índices começam em zero, ok? Portanto $A_{5,3}$ em Matemática é `A[4,2]` em Python."
   ]
  },
  {
   "cell_type": "markdown",
   "metadata": {},
   "source": [
    "\n",
    "---\n",
    "\n",
    "**Resposta**"
   ]
  },
  {
   "cell_type": "code",
   "execution_count": 3,
   "metadata": {},
   "outputs": [
    {
     "data": {
      "text/plain": [
       "array([[ 0.00e+00,  1.00e+00,  1.01e+02,  5.00e-01],\n",
       "       [ 1.00e+00,  1.00e+00,  1.02e+02, -1.40e-01],\n",
       "       [ 2.00e+00,  1.00e+00,  1.03e+02,  6.50e-01],\n",
       "       [ 3.00e+00,  1.00e+00,  1.04e+02,  1.52e+00],\n",
       "       [ 4.00e+00,  1.00e+00,  1.05e+02, -2.30e-01],\n",
       "       [ 5.00e+00,  1.00e+00,  1.06e+02, -2.30e-01],\n",
       "       [ 6.00e+00,  1.00e+00,  1.07e+02,  1.58e+00],\n",
       "       [ 7.00e+00,  1.00e+00,  1.08e+02,  7.70e-01],\n",
       "       [ 8.00e+00,  1.00e+00,  1.09e+02, -4.70e-01],\n",
       "       [ 9.00e+00,  1.00e+00,  1.10e+02,  5.40e-01],\n",
       "       [ 1.00e+01,  1.00e+00,  1.11e+02, -4.60e-01],\n",
       "       [ 1.10e+01,  1.00e+00,  1.12e+02, -4.70e-01],\n",
       "       [ 1.20e+01,  1.00e+00,  1.13e+02,  2.40e-01],\n",
       "       [ 1.30e+01,  1.00e+00,  1.14e+02, -1.91e+00],\n",
       "       [ 1.40e+01,  1.00e+00,  1.15e+02, -1.72e+00],\n",
       "       [ 1.50e+01,  1.00e+00,  1.16e+02, -5.60e-01],\n",
       "       [ 1.60e+01,  1.00e+00,  1.17e+02, -1.01e+00],\n",
       "       [ 1.70e+01,  1.00e+00,  1.18e+02,  3.10e-01],\n",
       "       [ 1.80e+01,  1.00e+00,  1.19e+02, -9.10e-01],\n",
       "       [ 1.90e+01,  1.00e+00,  1.20e+02, -1.41e+00],\n",
       "       [ 2.00e+01,  1.00e+00,  1.21e+02,  1.47e+00],\n",
       "       [ 2.10e+01,  1.00e+00,  1.22e+02, -2.30e-01],\n",
       "       [ 2.20e+01,  1.00e+00,  1.23e+02,  7.00e-02],\n",
       "       [ 2.30e+01,  1.00e+00,  1.24e+02, -1.42e+00],\n",
       "       [ 2.40e+01,  1.00e+00,  1.25e+02, -5.40e-01],\n",
       "       [ 2.50e+01,  1.00e+00,  1.26e+02,  1.10e-01],\n",
       "       [ 2.60e+01,  1.00e+00,  1.27e+02, -1.15e+00],\n",
       "       [ 2.70e+01,  1.00e+00,  1.28e+02,  3.80e-01],\n",
       "       [ 2.80e+01,  1.00e+00,  1.29e+02, -6.00e-01],\n",
       "       [ 2.90e+01,  1.00e+00,  1.30e+02, -2.90e-01],\n",
       "       [ 3.00e+01,  1.00e+00,  1.31e+02, -6.00e-01],\n",
       "       [ 3.10e+01,  1.00e+00,  1.32e+02,  1.85e+00],\n",
       "       [ 3.20e+01,  1.00e+00,  1.33e+02, -1.00e-02],\n",
       "       [ 3.30e+01,  1.00e+00,  1.34e+02, -1.06e+00],\n",
       "       [ 3.40e+01,  1.00e+00,  1.35e+02,  8.20e-01],\n",
       "       [ 3.50e+01,  1.00e+00,  1.36e+02, -1.22e+00],\n",
       "       [ 3.60e+01,  1.00e+00,  1.37e+02,  2.10e-01],\n",
       "       [ 3.70e+01,  1.00e+00,  1.38e+02, -1.96e+00],\n",
       "       [ 3.80e+01,  1.00e+00,  1.39e+02, -1.33e+00],\n",
       "       [ 3.90e+01,  1.00e+00,  1.40e+02,  2.00e-01],\n",
       "       [ 4.00e+01,  1.00e+00,  1.41e+02,  7.40e-01],\n",
       "       [ 4.10e+01,  1.00e+00,  1.42e+02,  1.70e-01],\n",
       "       [ 4.20e+01,  1.00e+00,  1.43e+02, -1.20e-01],\n",
       "       [ 4.30e+01,  1.00e+00,  1.44e+02, -3.00e-01],\n",
       "       [ 4.40e+01,  1.00e+00,  1.45e+02, -1.48e+00],\n",
       "       [ 4.50e+01,  1.00e+00,  1.46e+02, -7.20e-01],\n",
       "       [ 4.60e+01,  1.00e+00,  1.47e+02, -4.60e-01],\n",
       "       [ 4.70e+01,  1.00e+00,  1.48e+02,  1.06e+00],\n",
       "       [ 4.80e+01,  1.00e+00,  1.49e+02,  3.40e-01],\n",
       "       [ 4.90e+01,  1.00e+00,  1.50e+02, -1.76e+00],\n",
       "       [ 5.00e+01,  1.00e+00,  1.51e+02,  3.20e-01],\n",
       "       [ 5.10e+01,  1.00e+00,  1.52e+02, -3.90e-01],\n",
       "       [ 5.20e+01,  1.00e+00,  1.53e+02, -6.80e-01],\n",
       "       [ 5.30e+01,  1.00e+00,  1.54e+02,  6.10e-01],\n",
       "       [ 5.40e+01,  1.00e+00,  1.55e+02,  1.03e+00],\n",
       "       [ 5.50e+01,  1.00e+00,  1.56e+02,  9.30e-01],\n",
       "       [ 5.60e+01,  1.00e+00,  1.57e+02, -8.40e-01],\n",
       "       [ 5.70e+01,  1.00e+00,  1.58e+02, -3.10e-01],\n",
       "       [ 5.80e+01,  1.00e+00,  1.59e+02,  3.30e-01],\n",
       "       [ 5.90e+01,  1.00e+00,  1.60e+02,  9.80e-01],\n",
       "       [ 6.00e+01,  1.00e+00,  1.61e+02, -4.80e-01],\n",
       "       [ 6.10e+01,  1.00e+00,  1.62e+02, -1.90e-01],\n",
       "       [ 6.20e+01,  1.00e+00,  1.63e+02, -1.11e+00],\n",
       "       [ 6.30e+01,  1.00e+00,  1.64e+02, -1.20e+00],\n",
       "       [ 6.40e+01,  1.00e+00,  1.65e+02,  8.10e-01],\n",
       "       [ 6.50e+01,  1.00e+00,  1.66e+02,  1.36e+00],\n",
       "       [ 6.60e+01,  1.00e+00,  1.67e+02, -7.00e-02],\n",
       "       [ 6.70e+01,  1.00e+00,  1.68e+02,  1.00e+00],\n",
       "       [ 6.80e+01,  1.00e+00,  1.69e+02,  3.60e-01],\n",
       "       [ 6.90e+01,  1.00e+00,  1.70e+02, -6.50e-01],\n",
       "       [ 7.00e+01,  1.00e+00,  1.71e+02,  3.60e-01],\n",
       "       [ 7.10e+01,  1.00e+00,  1.72e+02,  1.54e+00],\n",
       "       [ 7.20e+01,  1.00e+00,  1.73e+02, -4.00e-02],\n",
       "       [ 7.30e+01,  1.00e+00,  1.74e+02,  1.56e+00],\n",
       "       [ 7.40e+01,  1.00e+00,  1.75e+02, -2.62e+00],\n",
       "       [ 7.50e+01,  1.00e+00,  1.76e+02,  8.20e-01],\n",
       "       [ 7.60e+01,  1.00e+00,  1.77e+02,  9.00e-02],\n",
       "       [ 7.70e+01,  1.00e+00,  1.78e+02, -3.00e-01],\n",
       "       [ 7.80e+01,  1.00e+00,  1.79e+02,  9.00e-02],\n",
       "       [ 7.90e+01,  1.00e+00,  1.80e+02, -1.99e+00],\n",
       "       [ 8.00e+01,  1.00e+00,  1.81e+02, -2.20e-01],\n",
       "       [ 8.10e+01,  1.00e+00,  1.82e+02,  3.60e-01],\n",
       "       [ 8.20e+01,  1.00e+00,  1.83e+02,  1.48e+00],\n",
       "       [ 8.30e+01,  1.00e+00,  1.84e+02, -5.20e-01],\n",
       "       [ 8.40e+01,  1.00e+00,  1.85e+02, -8.10e-01],\n",
       "       [ 8.50e+01,  1.00e+00,  1.86e+02, -5.00e-01],\n",
       "       [ 8.60e+01,  1.00e+00,  1.87e+02,  9.20e-01],\n",
       "       [ 8.70e+01,  1.00e+00,  1.88e+02,  3.30e-01],\n",
       "       [ 8.80e+01,  1.00e+00,  1.89e+02, -5.30e-01],\n",
       "       [ 8.90e+01,  1.00e+00,  1.90e+02,  5.10e-01],\n",
       "       [ 9.00e+01,  1.00e+00,  1.91e+02,  1.00e-01],\n",
       "       [ 9.10e+01,  1.00e+00,  1.92e+02,  9.70e-01],\n",
       "       [ 9.20e+01,  1.00e+00,  1.93e+02, -7.00e-01],\n",
       "       [ 9.30e+01,  1.00e+00,  1.94e+02, -3.30e-01],\n",
       "       [ 9.40e+01,  1.00e+00,  1.95e+02, -3.90e-01],\n",
       "       [ 9.50e+01,  1.00e+00,  1.96e+02, -1.46e+00],\n",
       "       [ 9.60e+01,  1.00e+00,  1.97e+02,  3.00e-01],\n",
       "       [ 9.70e+01,  1.00e+00,  1.98e+02,  2.60e-01],\n",
       "       [ 9.80e+01,  1.00e+00,  1.99e+02,  1.00e-02],\n",
       "       [ 9.90e+01,  1.00e+00,  2.00e+02, -2.30e-01]])"
      ]
     },
     "execution_count": 3,
     "metadata": {},
     "output_type": "execute_result"
    }
   ],
   "source": [
    "A[:, 0] = np.arange(100)\n",
    "A[:, 1] = np.ones(100)\n",
    "A[:, 2] = np.linspace(101, 200, 100)\n",
    "A[:, 3] = np.random.normal(0, 1, 100)\n",
    "A.round(2)"
   ]
  },
  {
   "cell_type": "markdown",
   "metadata": {},
   "source": [
    "---"
   ]
  },
  {
   "cell_type": "markdown",
   "metadata": {},
   "source": [
    "A célula abaixo calcula a decomposição em valores singulares (SVD - *Singular Value Decomposition*) de $A$:"
   ]
  },
  {
   "cell_type": "code",
   "execution_count": 4,
   "metadata": {},
   "outputs": [],
   "source": [
    "U, s, Vt = np.linalg.svd(A)"
   ]
  },
  {
   "cell_type": "code",
   "execution_count": 5,
   "metadata": {},
   "outputs": [
    {
     "data": {
      "text/plain": [
       "((100, 100), (4,), (4, 4))"
      ]
     },
     "execution_count": 5,
     "metadata": {},
     "output_type": "execute_result"
    }
   ],
   "source": [
    "U.shape, s.shape, Vt.shape"
   ]
  },
  {
   "cell_type": "markdown",
   "metadata": {},
   "source": [
    "Responda as perguntas a seguir:"
   ]
  },
  {
   "cell_type": "markdown",
   "metadata": {},
   "source": [
    "(b) (0.5 pts) Mostre que $U$ e $V$ são ortonormais, ou unitárias. Dica: em Python, o operador `@` multiplica matrizes. Dica: para escrever uma matriz usando poucos dígitos decimais, use o método `.round()` de matrizes - por exemplo, para escrever $M$ com dois dígitos, use `M.round(2)`."
   ]
  },
  {
   "cell_type": "markdown",
   "metadata": {},
   "source": [
    "\n",
    "---\n",
    "\n",
    "**Resposta**"
   ]
  },
  {
   "cell_type": "code",
   "execution_count": 6,
   "metadata": {},
   "outputs": [
    {
     "data": {
      "text/plain": [
       "array([[ 1., -0.,  0., ..., -0.,  0.,  0.],\n",
       "       [-0.,  1., -0., ..., -0., -0., -0.],\n",
       "       [ 0., -0.,  1., ..., -0.,  0.,  0.],\n",
       "       ...,\n",
       "       [-0., -0., -0., ...,  1.,  0.,  0.],\n",
       "       [ 0., -0.,  0., ...,  0.,  1.,  0.],\n",
       "       [ 0., -0.,  0., ...,  0.,  0.,  1.]])"
      ]
     },
     "execution_count": 6,
     "metadata": {},
     "output_type": "execute_result"
    }
   ],
   "source": [
    "(U @ U.T).round(2)"
   ]
  },
  {
   "cell_type": "code",
   "execution_count": 7,
   "metadata": {},
   "outputs": [
    {
     "data": {
      "text/plain": [
       "array([[ 1., -0., -0., -0.],\n",
       "       [-0.,  1., -0.,  0.],\n",
       "       [-0., -0.,  1., -0.],\n",
       "       [-0.,  0., -0.,  1.]])"
      ]
     },
     "execution_count": 7,
     "metadata": {},
     "output_type": "execute_result"
    }
   ],
   "source": [
    "(Vt @ Vt.T).round(2)"
   ]
  },
  {
   "cell_type": "markdown",
   "metadata": {},
   "source": [
    "---"
   ]
  },
  {
   "cell_type": "markdown",
   "metadata": {},
   "source": [
    "(c) (0.5 pts) O array `s` contém apenas uma lista de números ao invés de ser uma matriz $100 \\times 4$. Construa uma matriz $S$ que siga o padrão da SVD, ou seja, $1$ bloco diagonal com os valores de `s`, e um bloco de zeros. Dica: use as funções `np.diag`, `np.zeros` e `np.vstack`"
   ]
  },
  {
   "cell_type": "markdown",
   "metadata": {},
   "source": [
    "\n",
    "---\n",
    "\n",
    "**Resposta**"
   ]
  },
  {
   "cell_type": "code",
   "execution_count": 8,
   "metadata": {},
   "outputs": [
    {
     "data": {
      "text/plain": [
       "array([[1626.24,    0.  ,    0.  ,    0.  ],\n",
       "       [   0.  ,  179.3 ,    0.  ,    0.  ],\n",
       "       [   0.  ,    0.  ,    9.03,    0.  ],\n",
       "       [   0.  ,    0.  ,    0.  ,    0.  ],\n",
       "       [   0.  ,    0.  ,    0.  ,    0.  ],\n",
       "       [   0.  ,    0.  ,    0.  ,    0.  ],\n",
       "       [   0.  ,    0.  ,    0.  ,    0.  ],\n",
       "       [   0.  ,    0.  ,    0.  ,    0.  ],\n",
       "       [   0.  ,    0.  ,    0.  ,    0.  ],\n",
       "       [   0.  ,    0.  ,    0.  ,    0.  ],\n",
       "       [   0.  ,    0.  ,    0.  ,    0.  ],\n",
       "       [   0.  ,    0.  ,    0.  ,    0.  ],\n",
       "       [   0.  ,    0.  ,    0.  ,    0.  ],\n",
       "       [   0.  ,    0.  ,    0.  ,    0.  ],\n",
       "       [   0.  ,    0.  ,    0.  ,    0.  ],\n",
       "       [   0.  ,    0.  ,    0.  ,    0.  ],\n",
       "       [   0.  ,    0.  ,    0.  ,    0.  ],\n",
       "       [   0.  ,    0.  ,    0.  ,    0.  ],\n",
       "       [   0.  ,    0.  ,    0.  ,    0.  ],\n",
       "       [   0.  ,    0.  ,    0.  ,    0.  ],\n",
       "       [   0.  ,    0.  ,    0.  ,    0.  ],\n",
       "       [   0.  ,    0.  ,    0.  ,    0.  ],\n",
       "       [   0.  ,    0.  ,    0.  ,    0.  ],\n",
       "       [   0.  ,    0.  ,    0.  ,    0.  ],\n",
       "       [   0.  ,    0.  ,    0.  ,    0.  ],\n",
       "       [   0.  ,    0.  ,    0.  ,    0.  ],\n",
       "       [   0.  ,    0.  ,    0.  ,    0.  ],\n",
       "       [   0.  ,    0.  ,    0.  ,    0.  ],\n",
       "       [   0.  ,    0.  ,    0.  ,    0.  ],\n",
       "       [   0.  ,    0.  ,    0.  ,    0.  ],\n",
       "       [   0.  ,    0.  ,    0.  ,    0.  ],\n",
       "       [   0.  ,    0.  ,    0.  ,    0.  ],\n",
       "       [   0.  ,    0.  ,    0.  ,    0.  ],\n",
       "       [   0.  ,    0.  ,    0.  ,    0.  ],\n",
       "       [   0.  ,    0.  ,    0.  ,    0.  ],\n",
       "       [   0.  ,    0.  ,    0.  ,    0.  ],\n",
       "       [   0.  ,    0.  ,    0.  ,    0.  ],\n",
       "       [   0.  ,    0.  ,    0.  ,    0.  ],\n",
       "       [   0.  ,    0.  ,    0.  ,    0.  ],\n",
       "       [   0.  ,    0.  ,    0.  ,    0.  ],\n",
       "       [   0.  ,    0.  ,    0.  ,    0.  ],\n",
       "       [   0.  ,    0.  ,    0.  ,    0.  ],\n",
       "       [   0.  ,    0.  ,    0.  ,    0.  ],\n",
       "       [   0.  ,    0.  ,    0.  ,    0.  ],\n",
       "       [   0.  ,    0.  ,    0.  ,    0.  ],\n",
       "       [   0.  ,    0.  ,    0.  ,    0.  ],\n",
       "       [   0.  ,    0.  ,    0.  ,    0.  ],\n",
       "       [   0.  ,    0.  ,    0.  ,    0.  ],\n",
       "       [   0.  ,    0.  ,    0.  ,    0.  ],\n",
       "       [   0.  ,    0.  ,    0.  ,    0.  ],\n",
       "       [   0.  ,    0.  ,    0.  ,    0.  ],\n",
       "       [   0.  ,    0.  ,    0.  ,    0.  ],\n",
       "       [   0.  ,    0.  ,    0.  ,    0.  ],\n",
       "       [   0.  ,    0.  ,    0.  ,    0.  ],\n",
       "       [   0.  ,    0.  ,    0.  ,    0.  ],\n",
       "       [   0.  ,    0.  ,    0.  ,    0.  ],\n",
       "       [   0.  ,    0.  ,    0.  ,    0.  ],\n",
       "       [   0.  ,    0.  ,    0.  ,    0.  ],\n",
       "       [   0.  ,    0.  ,    0.  ,    0.  ],\n",
       "       [   0.  ,    0.  ,    0.  ,    0.  ],\n",
       "       [   0.  ,    0.  ,    0.  ,    0.  ],\n",
       "       [   0.  ,    0.  ,    0.  ,    0.  ],\n",
       "       [   0.  ,    0.  ,    0.  ,    0.  ],\n",
       "       [   0.  ,    0.  ,    0.  ,    0.  ],\n",
       "       [   0.  ,    0.  ,    0.  ,    0.  ],\n",
       "       [   0.  ,    0.  ,    0.  ,    0.  ],\n",
       "       [   0.  ,    0.  ,    0.  ,    0.  ],\n",
       "       [   0.  ,    0.  ,    0.  ,    0.  ],\n",
       "       [   0.  ,    0.  ,    0.  ,    0.  ],\n",
       "       [   0.  ,    0.  ,    0.  ,    0.  ],\n",
       "       [   0.  ,    0.  ,    0.  ,    0.  ],\n",
       "       [   0.  ,    0.  ,    0.  ,    0.  ],\n",
       "       [   0.  ,    0.  ,    0.  ,    0.  ],\n",
       "       [   0.  ,    0.  ,    0.  ,    0.  ],\n",
       "       [   0.  ,    0.  ,    0.  ,    0.  ],\n",
       "       [   0.  ,    0.  ,    0.  ,    0.  ],\n",
       "       [   0.  ,    0.  ,    0.  ,    0.  ],\n",
       "       [   0.  ,    0.  ,    0.  ,    0.  ],\n",
       "       [   0.  ,    0.  ,    0.  ,    0.  ],\n",
       "       [   0.  ,    0.  ,    0.  ,    0.  ],\n",
       "       [   0.  ,    0.  ,    0.  ,    0.  ],\n",
       "       [   0.  ,    0.  ,    0.  ,    0.  ],\n",
       "       [   0.  ,    0.  ,    0.  ,    0.  ],\n",
       "       [   0.  ,    0.  ,    0.  ,    0.  ],\n",
       "       [   0.  ,    0.  ,    0.  ,    0.  ],\n",
       "       [   0.  ,    0.  ,    0.  ,    0.  ],\n",
       "       [   0.  ,    0.  ,    0.  ,    0.  ],\n",
       "       [   0.  ,    0.  ,    0.  ,    0.  ],\n",
       "       [   0.  ,    0.  ,    0.  ,    0.  ],\n",
       "       [   0.  ,    0.  ,    0.  ,    0.  ],\n",
       "       [   0.  ,    0.  ,    0.  ,    0.  ],\n",
       "       [   0.  ,    0.  ,    0.  ,    0.  ],\n",
       "       [   0.  ,    0.  ,    0.  ,    0.  ],\n",
       "       [   0.  ,    0.  ,    0.  ,    0.  ],\n",
       "       [   0.  ,    0.  ,    0.  ,    0.  ],\n",
       "       [   0.  ,    0.  ,    0.  ,    0.  ],\n",
       "       [   0.  ,    0.  ,    0.  ,    0.  ],\n",
       "       [   0.  ,    0.  ,    0.  ,    0.  ],\n",
       "       [   0.  ,    0.  ,    0.  ,    0.  ],\n",
       "       [   0.  ,    0.  ,    0.  ,    0.  ]])"
      ]
     },
     "execution_count": 8,
     "metadata": {},
     "output_type": "execute_result"
    }
   ],
   "source": [
    "S = np.vstack((np.diag(s), np.zeros((96, 4))))\n",
    "S.round(2)"
   ]
  },
  {
   "cell_type": "markdown",
   "metadata": {},
   "source": [
    "---"
   ]
  },
  {
   "cell_type": "markdown",
   "metadata": {},
   "source": [
    "(d) (0.5 pts) Em `s` temos que o menor elemento é efetivamente zero, veja:"
   ]
  },
  {
   "cell_type": "code",
   "execution_count": 9,
   "metadata": {},
   "outputs": [
    {
     "data": {
      "text/plain": [
       "array([1626.24,  179.3 ,    9.03,    0.  ])"
      ]
     },
     "execution_count": 9,
     "metadata": {},
     "output_type": "execute_result"
    }
   ],
   "source": [
    "s.round(2)"
   ]
  },
  {
   "cell_type": "markdown",
   "metadata": {},
   "source": [
    "*Baseado na construção de $A$*, explique porque o menor elemento de `s` é zero."
   ]
  },
  {
   "cell_type": "markdown",
   "metadata": {},
   "source": [
    "\n",
    "---\n",
    "\n",
    "**Resposta**"
   ]
  },
  {
   "cell_type": "markdown",
   "metadata": {},
   "source": [
    "O menor elemento de `s` é zero pois há colunas colineares na matriz $A$, já que $A_{x,1}+100\\cdot A_{x,2} = A_{x,3}$"
   ]
  },
  {
   "cell_type": "markdown",
   "metadata": {},
   "source": [
    "---"
   ]
  },
  {
   "cell_type": "markdown",
   "metadata": {},
   "source": [
    "(e) (0.5 pts) Efetue o produto $\\boldsymbol{U} \\boldsymbol{S} \\boldsymbol{V}^{T}$ e verifique que bate com $A$, a menos de precisão numérica. Dica: use a função `np.allclose` para verificar que dois arrays tem valores muito próximos."
   ]
  },
  {
   "cell_type": "markdown",
   "metadata": {},
   "source": [
    "\n",
    "---\n",
    "\n",
    "**Resposta**"
   ]
  },
  {
   "cell_type": "code",
   "execution_count": 10,
   "metadata": {},
   "outputs": [
    {
     "data": {
      "text/plain": [
       "True"
      ]
     },
     "execution_count": 10,
     "metadata": {},
     "output_type": "execute_result"
    }
   ],
   "source": [
    "np.allclose(A, U @ S @ Vt)"
   ]
  },
  {
   "cell_type": "markdown",
   "metadata": {},
   "source": [
    "---"
   ]
  },
  {
   "cell_type": "markdown",
   "metadata": {},
   "source": [
    "**Questão 2** (2.0 pts) O algoritmo de minimização por descida do gradiente funciona da seguinte forma:\n",
    "\n",
    "- Comece por um ponto de partida qualquer\n",
    "- Loop:\n",
    "    - Atualize a estimativa do minimo, adicionando um pequeno multiplo (taxa de aprendizagem) do negativo do gradiente.\n",
    "    - Se a atualização foi negligível, pare o loop\n",
    "\n",
    "Eis uma implementação:"
   ]
  },
  {
   "cell_type": "code",
   "execution_count": 11,
   "metadata": {},
   "outputs": [],
   "source": [
    "def gradient_descent(f, g, x0, eta=0.01, tol=1e-6, max_iter=1000):\n",
    "    \"\"\"Algoritmo de otimização do gradiente descendente.\n",
    "\n",
    "    Args:\n",
    "        f (callable): Função objetivo.\n",
    "        g (callable): Gradiente da função objetivo.\n",
    "        x0 (np.ndarray): Ponto inicial.\n",
    "        alpha (float): Taxa de aprendizado.\n",
    "        tol (float): Tolerância para o critério de parada.\n",
    "        max_iter (int): Número máximo de iterações.\n",
    "    \n",
    "    Returns:\n",
    "        np.ndarray: Ponto ótimo.\n",
    "    \"\"\"\n",
    "    x = x0\n",
    "    for i in range(max_iter):\n",
    "        x_new = x - eta * g(x)\n",
    "        if np.linalg.norm(x_new - x) < tol:\n",
    "            break\n",
    "        x = x_new\n",
    "    if i == max_iter - 1:\n",
    "        print(\"Aviso: número máximo de iterações atingido!\")\n",
    "    return x_new"
   ]
  },
  {
   "cell_type": "markdown",
   "metadata": {},
   "source": [
    "Nesta implementação você passa *funções* `f(x)` e `g(x)` que computam o valor da função a ser otimizada, e o seu gradiente. Por exemplo, vamos minimizar a função $f(x) = x^2 -4 x + 1$. Seu gradiente é apenas uma derivada simples, pois essa função tem apenas uma variável, e vale $g(x) = 2 x - 4$."
   ]
  },
  {
   "cell_type": "code",
   "execution_count": 12,
   "metadata": {},
   "outputs": [],
   "source": [
    "def f(x):\n",
    "    return x**2 - 4*x + 1\n",
    "\n",
    "def g(x):\n",
    "    return 2*x - 4"
   ]
  },
  {
   "cell_type": "code",
   "execution_count": 13,
   "metadata": {},
   "outputs": [],
   "source": [
    "x_plot = np.linspace(-3, 7, 100)\n",
    "f_plot = f(x_plot)\n",
    "g_plot = g(x_plot)"
   ]
  },
  {
   "cell_type": "code",
   "execution_count": 14,
   "metadata": {},
   "outputs": [
    {
     "data": {
      "image/png": "[encoded data removed]",
      "text/plain": [
       "<Figure size 1000x600 with 1 Axes>"
      ]
     },
     "metadata": {},
     "output_type": "display_data"
    }
   ],
   "source": [
    "plt.figure(figsize=(10, 6))\n",
    "plt.plot(x_plot, f_plot, label=r'$f(x)$')\n",
    "plt.plot(x_plot, g_plot, label=r'$g(x) = f^{\\prime}(x)$')\n",
    "plt.xlabel(r'$x$')\n",
    "plt.ylabel(r'$f(x), g(x)$')\n",
    "plt.title('Função quadrática e sua derivada')\n",
    "plt.legend()\n",
    "plt.grid()\n",
    "plt.show()"
   ]
  },
  {
   "cell_type": "markdown",
   "metadata": {},
   "source": [
    "(a) (0.5 pts) Pelo método analítico, qual o ponto de mínimo de $f(x)$?"
   ]
  },
  {
   "cell_type": "markdown",
   "metadata": {},
   "source": [
    "\n",
    "---\n",
    "\n",
    "**Resposta**"
   ]
  },
  {
   "cell_type": "markdown",
   "metadata": {},
   "source": [
    "No ponto em que $f'(x) = 0$, ou seja na coordenada (2, -3) "
   ]
  },
  {
   "cell_type": "markdown",
   "metadata": {},
   "source": [
    "---"
   ]
  },
  {
   "cell_type": "markdown",
   "metadata": {},
   "source": [
    "(b) (0.5 pts) Usando a função `gradient_descent` acima podemos achar o mínimo numericamente, veja:"
   ]
  },
  {
   "cell_type": "code",
   "execution_count": 15,
   "metadata": {},
   "outputs": [
    {
     "name": "stdout",
     "output_type": "stream",
     "text": [
      "O ponto ótimo é 2.00.\n"
     ]
    }
   ],
   "source": [
    "x_min = gradient_descent(f, g, -2, eta=0.1, tol=1e-6, max_iter=1000)\n",
    "print(f\"O ponto ótimo é {x_min:.2f}.\")"
   ]
  },
  {
   "cell_type": "markdown",
   "metadata": {},
   "source": [
    "Vamos achar o mínimo numericamente, usando a função `gradient_descent` acima com `eta = 1e-4`, `tol=1e-6` e `max_iter=1000`. O valor correto não será encontrado:"
   ]
  },
  {
   "cell_type": "code",
   "execution_count": 16,
   "metadata": {},
   "outputs": [
    {
     "name": "stdout",
     "output_type": "stream",
     "text": [
      "Aviso: número máximo de iterações atingido!\n",
      "O ponto ótimo é -1.27.\n"
     ]
    }
   ],
   "source": [
    "x_min = gradient_descent(f, g, -2, eta=1e-4, tol=1e-6, max_iter=1000)\n",
    "print(f\"O ponto ótimo é {x_min:.2f}.\")"
   ]
  },
  {
   "cell_type": "markdown",
   "metadata": {},
   "source": [
    "Explique porque isso aconteceu e como resolver esse problema. Dica: pode modificar a função `gradient_descent` para escrever informações diagnósticas conforme o algoritmo avança."
   ]
  },
  {
   "cell_type": "markdown",
   "metadata": {},
   "source": [
    "\n",
    "---\n",
    "\n",
    "**Resposta**"
   ]
  },
  {
   "cell_type": "markdown",
   "metadata": {},
   "source": [
    "Não foi possível encontrar o valor correto do mínimo, pois o valor da constante `eta` é pequeno demais, fazendo com que a aproximação do ponto ótimo ocorra muito devagar, não ocorrendo antes do limite de iterações ser alcançado. Para resolver isso seria necessário aumentar o valor da constante `eta` ou aumentar o limite de iterações."
   ]
  },
  {
   "cell_type": "markdown",
   "metadata": {},
   "source": [
    "---"
   ]
  },
  {
   "cell_type": "markdown",
   "metadata": {},
   "source": [
    "(c) (0.5 pts) Agora vamos tentar de novo mas com `eta = 1e4`, `tol=1e-6` e `max_iter=1000`. O valor correto não será encontrado:"
   ]
  },
  {
   "cell_type": "code",
   "execution_count": 17,
   "metadata": {},
   "outputs": [
    {
     "name": "stdout",
     "output_type": "stream",
     "text": [
      "Aviso: número máximo de iterações atingido!\n",
      "O ponto ótimo é nan.\n"
     ]
    }
   ],
   "source": [
    "x_min = gradient_descent(f, g, -2, eta=1e4, tol=1e-6, max_iter=1000)\n",
    "print(f\"O ponto ótimo é {x_min:.2f}.\")"
   ]
  },
  {
   "cell_type": "markdown",
   "metadata": {},
   "source": [
    "Explique porque isso aconteceu e como resolver esse problema. Dica: pode modificar a função `gradient_descent` para escrever informações diagnósticas conforme o algoritmo avança."
   ]
  },
  {
   "cell_type": "markdown",
   "metadata": {},
   "source": [
    "\n",
    "---\n",
    "\n",
    "**Resposta**"
   ]
  },
  {
   "cell_type": "markdown",
   "metadata": {},
   "source": [
    "Diferente do caso anterior, o valor de `eta` utilizado é grande demais, impedindo que ocorra a convergência no ponto ótimo (inclusive, o valor ultrapaçou o valor máximo de um interger). Para resolver isso seria necessário reduzir o valor de `eta`."
   ]
  },
  {
   "cell_type": "markdown",
   "metadata": {},
   "source": [
    "---"
   ]
  },
  {
   "cell_type": "markdown",
   "metadata": {},
   "source": [
    "(d) (0.5 pts) Vamos explorar agora outra função: $f(x) = x^4 - (52 / 3) x^3 + 108 x^2 - 288 x + 290$. A derivada de $f(x)$ é $g(x) = 4 x^3 - 52 x^2 + 216 x - 288$. Veja os gráficos abaixo."
   ]
  },
  {
   "cell_type": "code",
   "execution_count": 18,
   "metadata": {},
   "outputs": [],
   "source": [
    "def f(x):\n",
    "    return x**4 - (52 / 3) * x**3 + 108 * x**2 - 288 * x + 290\n",
    "\n",
    "\n",
    "def g(x):\n",
    "    return 4 * x**3 - 52 * x**2 + 216 * x - 288"
   ]
  },
  {
   "cell_type": "code",
   "execution_count": 19,
   "metadata": {},
   "outputs": [],
   "source": [
    "x_plot = np.linspace(2, 7, 100)\n",
    "f_plot = f(x_plot)\n",
    "g_plot = g(x_plot)"
   ]
  },
  {
   "cell_type": "code",
   "execution_count": 20,
   "metadata": {},
   "outputs": [
    {
     "data": {
      "image/png": "[encoded data removed]",
      "text/plain": [
       "<Figure size 640x480 with 2 Axes>"
      ]
     },
     "metadata": {},
     "output_type": "display_data"
    }
   ],
   "source": [
    "fig, ax1 = plt.subplots()\n",
    "\n",
    "color1 = 'tab:blue'\n",
    "lines1 = ax1.plot(\n",
    "    x_plot,\n",
    "    f_plot,\n",
    "    color=color1,\n",
    "    label=r'$f(x)$',\n",
    ")\n",
    "ax1.scatter(\n",
    "    [3, 4, 6],\n",
    "    [f(3), f(4), f(6)],\n",
    "    color='red',\n",
    ")\n",
    "ax1.set_xlabel('x')\n",
    "ax1.set_xlim(2, 7)\n",
    "ax1.set_ylim(0, 25)\n",
    "ax1.set_ylabel(r'$f(x)$')\n",
    "\n",
    "ax2 = ax1.twinx()\n",
    "color2 = 'tab:orange'\n",
    "lines2 = ax2.plot(\n",
    "    x_plot,\n",
    "    g_plot,\n",
    "    color=color2,\n",
    "    label=r'$g(x) = f^{\\prime}(x)$',\n",
    ")\n",
    "ax2.set_ylim(-20, 30)\n",
    "ax2.set_ylabel(r'$g(x)$')\n",
    "\n",
    "lines = lines1 + lines2\n",
    "labels = [line.get_label() for line in lines]\n",
    "ax1.legend(lines, labels, loc='upper left')\n",
    "ax1.grid()\n",
    "\n",
    "fig.tight_layout()\n",
    "plt.show()"
   ]
  },
  {
   "cell_type": "markdown",
   "metadata": {},
   "source": [
    "O que aconteceu com o `gradient_descent` se ao buscamos achar o mínimo a partir de $x_{\\text{inicial}} = 2$ paramos em $x = 3$ ao invés do ponto ótimo $x = 6$? Explique com suas palavras, e monte um exemplo de código (i.e. chame a função `gradient_descent` com os parâmetros necessários) para demonstrar este fenômeno."
   ]
  },
  {
   "cell_type": "markdown",
   "metadata": {},
   "source": [
    "\n",
    "---\n",
    "\n",
    "**Resposta**"
   ]
  },
  {
   "cell_type": "markdown",
   "metadata": {},
   "source": [
    "Se a colocarmos o $x_{inicial}$ dentro do intervalo $]\\infty^-,4]$ a função convergirá para o minimo local $x=3$, pois ele é o ponto mínimo mais próximo."
   ]
  },
  {
   "cell_type": "code",
   "execution_count": 36,
   "metadata": {},
   "outputs": [
    {
     "data": {
      "text/plain": [
       "2.999917979717876"
      ]
     },
     "execution_count": 36,
     "metadata": {},
     "output_type": "execute_result"
    }
   ],
   "source": [
    "gradient_descent(f, g, 2.9, eta=1e-3, tol=1e-6, max_iter=1000)"
   ]
  },
  {
   "cell_type": "markdown",
   "metadata": {},
   "source": [
    "---"
   ]
  },
  {
   "cell_type": "markdown",
   "metadata": {},
   "source": [
    "# Seção: Técnicas"
   ]
  },
  {
   "cell_type": "code",
   "execution_count": 21,
   "metadata": {},
   "outputs": [],
   "source": [
    "from sklearn.cluster import KMeans\n",
    "from sklearn.metrics import silhouette_score"
   ]
  },
  {
   "cell_type": "markdown",
   "metadata": {},
   "source": [
    "**Questão 3** (2.0 pts) Clustering"
   ]
  },
  {
   "cell_type": "markdown",
   "metadata": {},
   "source": [
    "(a) (0.5 pts) A função abaixo constroi um dataset simulado com 3 clusters:"
   ]
  },
  {
   "cell_type": "code",
   "execution_count": 22,
   "metadata": {},
   "outputs": [],
   "source": [
    "from sklearn.datasets import make_blobs\n",
    "\n",
    "X, _ = make_blobs(\n",
    "    n_samples=300,\n",
    "    centers=3,\n",
    "    n_features=2,\n",
    "    cluster_std=0.5,\n",
    "    random_state=0,\n",
    ")"
   ]
  },
  {
   "cell_type": "code",
   "execution_count": null,
   "metadata": {},
   "outputs": [],
   "source": [
    "plt.scatter(X[:, 0], X[:, 1])\n",
    "plt.show()"
   ]
  },
  {
   "cell_type": "markdown",
   "metadata": {},
   "source": [
    "Execute uma clusterização `KMeans` e visualize o resultado, explique se o resultado é razoável."
   ]
  },
  {
   "cell_type": "markdown",
   "metadata": {},
   "source": [
    "\n",
    "---\n",
    "\n",
    "**Resposta**"
   ]
  },
  {
   "cell_type": "code",
   "execution_count": null,
   "metadata": {},
   "outputs": [],
   "source": [
    "kmeans = KMeans(n_clusters=3, random_state=0).fit(X)\n",
    "\n",
    "plt.scatter(X[:, 0], X[:, 1], c=kmeans.labels_)\n",
    "plt.show()"
   ]
  },
  {
   "cell_type": "markdown",
   "metadata": {},
   "source": []
  },
  {
   "cell_type": "markdown",
   "metadata": {},
   "source": [
    "---"
   ]
  },
  {
   "cell_type": "markdown",
   "metadata": {},
   "source": [
    "(b) (0.5 pts) Calcule o *silhouette score* do seu clustering (`sklearn.metrics.silhouette_score`)"
   ]
  },
  {
   "cell_type": "markdown",
   "metadata": {},
   "source": [
    "\n",
    "---\n",
    "\n",
    "**Resposta**"
   ]
  },
  {
   "cell_type": "code",
   "execution_count": null,
   "metadata": {},
   "outputs": [],
   "source": [
    "silhouette_score(X, kmeans.labels_)"
   ]
  },
  {
   "cell_type": "markdown",
   "metadata": {},
   "source": [
    "---"
   ]
  },
  {
   "cell_type": "markdown",
   "metadata": {},
   "source": [
    "(c) (0.5 pts) Agora vamos multiplicar a primeira coluna de $X$ por $10000$"
   ]
  },
  {
   "cell_type": "code",
   "execution_count": null,
   "metadata": {},
   "outputs": [],
   "source": [
    "X_bad = X.copy()\n",
    "X_bad[:, 0] = X_bad[:, 0] * 10000\n",
    "plt.scatter(X_bad[:, 0], X_bad[:, 1])\n",
    "plt.show()"
   ]
  },
  {
   "cell_type": "code",
   "execution_count": null,
   "metadata": {},
   "outputs": [],
   "source": []
  },
  {
   "cell_type": "markdown",
   "metadata": {},
   "source": [
    "Execute uma clusterização `KMeans` neste novo dataset e explique se o resultado é uma clusterização razoável."
   ]
  },
  {
   "cell_type": "markdown",
   "metadata": {},
   "source": [
    "\n",
    "---\n",
    "\n",
    "**Resposta**"
   ]
  },
  {
   "cell_type": "code",
   "execution_count": null,
   "metadata": {},
   "outputs": [],
   "source": [
    "kmeans_bad = KMeans(n_clusters=3, random_state=0).fit(X_bad)\n",
    "plt.scatter(X_bad[:, 0], X_bad[:, 1], c=kmeans_bad.labels_)\n",
    "plt.show()\n"
   ]
  },
  {
   "cell_type": "markdown",
   "metadata": {},
   "source": [
    "Como X está numa ordem de grandeza muito maior que Y ele possui muito mais relevancia para o algoritmo do que Y, fazendo com que o algoritmo perca a precisão no eixo X"
   ]
  },
  {
   "cell_type": "markdown",
   "metadata": {},
   "source": [
    "---"
   ]
  },
  {
   "cell_type": "markdown",
   "metadata": {},
   "source": [
    "(d) (0.5 pts) Calcule o *silhouette score* do seu novo clustering e compare com o score do item (b)"
   ]
  },
  {
   "cell_type": "markdown",
   "metadata": {},
   "source": [
    "\n",
    "---\n",
    "\n",
    "**Resposta**"
   ]
  },
  {
   "cell_type": "code",
   "execution_count": null,
   "metadata": {},
   "outputs": [],
   "source": [
    "silhouette_score(X_bad, kmeans_bad.labels_)"
   ]
  },
  {
   "cell_type": "markdown",
   "metadata": {},
   "source": [
    "Os valores dos `silhoette` estão próximos, mas o `silhoette` do item c é pior porque a sua clusterização também está pior."
   ]
  },
  {
   "cell_type": "markdown",
   "metadata": {},
   "source": [
    "---"
   ]
  },
  {
   "cell_type": "markdown",
   "metadata": {},
   "source": [
    "**Questão 4** (3.5 pts) Regressão"
   ]
  },
  {
   "cell_type": "markdown",
   "metadata": {},
   "source": [
    "(a) (0.5 pts) Explique porque ao construir a equação normal temos que adicionar uma coluna de $1\\text{s}$ na matriz $X$."
   ]
  },
  {
   "cell_type": "markdown",
   "metadata": {},
   "source": [
    "\n",
    "---\n",
    "\n",
    "**Resposta**"
   ]
  },
  {
   "cell_type": "markdown",
   "metadata": {},
   "source": [
    "pois a equação normal é $y = \\theta_0\\cdot 1 + \\theta_1\\cdot x_1 + ... \\theta_n\\cdot x_n$, então para ser possível obter essa euquação a partir de uma multiplicação de matrizes é necessário colocar uma coluna de `1s` no ínicio para que ela seja multiplicada pelo $\\theta_0$."
   ]
  },
  {
   "cell_type": "markdown",
   "metadata": {},
   "source": [
    "---"
   ]
  },
  {
   "cell_type": "markdown",
   "metadata": {},
   "source": [
    "(b) (3.0 pts) Construa um projeto de regressão sobre os dados do dataset \"Liver disorders\" do OpenML (https://www.openml.org/search?type=data&status=active&id=8). Para sua conveniência eu já salvei os dados em um arquivo *pickle*:"
   ]
  },
  {
   "cell_type": "code",
   "execution_count": 29,
   "metadata": {},
   "outputs": [],
   "source": [
    "import pickle\n",
    "\n",
    "with open('liver.pkl', 'rb') as f:\n",
    "    data = pickle.load(f)"
   ]
  },
  {
   "cell_type": "code",
   "execution_count": null,
   "metadata": {},
   "outputs": [],
   "source": [
    "data.keys()"
   ]
  },
  {
   "cell_type": "code",
   "execution_count": null,
   "metadata": {},
   "outputs": [],
   "source": [
    "print(data.DESCR)"
   ]
  },
  {
   "cell_type": "code",
   "execution_count": null,
   "metadata": {},
   "outputs": [],
   "source": [
    "data.frame"
   ]
  },
  {
   "cell_type": "markdown",
   "metadata": {},
   "source": [
    "Itens a serem avaliados:\n",
    "\n",
    "- Análise exploratória (1.0 pt)\n",
    "- Feature engineering (apenas se realmente necessário) e construção do modelo (1.0 pt)\n",
    "- Análise de desempenho (split treino-teste, métricas de desempenho, etc. Não me importa se o erro vai ser baixo, quero ver se a técnica é correta.) (1.0 pt)"
   ]
  },
  {
   "cell_type": "markdown",
   "metadata": {},
   "source": [
    "\n",
    "---\n",
    "\n",
    "**Resposta**"
   ]
  },
  {
   "cell_type": "code",
   "execution_count": null,
   "metadata": {},
   "outputs": [],
   "source": [
    "\n",
    "fig, axes = plt.subplots(2, 3, figsize=(16, 10))\n",
    "plt.subplot(2, 3, 1)\n",
    "plt.hist(data['data']['mcv'])\n",
    "plt.title('mcv')\n",
    "\n",
    "plt.subplot(2,3, 2)\n",
    "plt.hist(data['data']['alkphos'])\n",
    "plt.title('alkphos')\n",
    "\n",
    "plt.subplot(2,3, 3)\n",
    "plt.hist(data['data']['sgpt'])\n",
    "plt.title('sgpt')\n",
    "\n",
    "plt.subplot(2,3, 4)\n",
    "plt.hist(data['data']['sgot'])\n",
    "plt.title('sgot')\n",
    "\n",
    "plt.subplot(2,3, 5)\n",
    "plt.hist(data['data']['gammagt'])\n",
    "plt.title('gammagt')\n",
    "fig.show()\n"
   ]
  },
  {
   "cell_type": "code",
   "execution_count": 34,
   "metadata": {},
   "outputs": [],
   "source": [
    "from sklearn.datasets import fetch_openml\n",
    "from sklearn.linear_model import LinearRegression\n",
    "from sklearn.model_selection import train_test_split\n",
    "from sklearn.metrics import root_mean_squared_error"
   ]
  },
  {
   "cell_type": "code",
   "execution_count": 35,
   "metadata": {},
   "outputs": [],
   "source": [
    "data = fetch_openml(name='liver-disorders', version=1)"
   ]
  },
  {
   "cell_type": "code",
   "execution_count": 36,
   "metadata": {},
   "outputs": [],
   "source": [
    "X = data.data\n",
    "y = data.target"
   ]
  },
  {
   "cell_type": "code",
   "execution_count": 37,
   "metadata": {},
   "outputs": [],
   "source": [
    "X.shape, y.shape\n",
    "X_train, X_test, y_train, y_test = train_test_split(X, y, test_size=0.2, random_state=42)"
   ]
  },
  {
   "cell_type": "code",
   "execution_count": null,
   "metadata": {},
   "outputs": [],
   "source": [
    "model = LinearRegression()\n",
    "model.fit(X_train, y_train)\n",
    "\n",
    "y_pred = model.predict(X_test)\n",
    "\n",
    "rmse = root_mean_squared_error(y_test, y_pred)\n",
    "rmse"
   ]
  }
 ],
 "metadata": {
  "kernelspec": {
   "display_name": "ml",
   "language": "python",
   "name": "python3"
  },
  "language_info": {
   "codemirror_mode": {
    "name": "ipython",
    "version": 3
   },
   "file_extension": ".py",
   "mimetype": "text/x-python",
   "name": "python",
   "nbconvert_exporter": "python",
   "pygments_lexer": "ipython3",
   "version": "3.12.4"
  }
 },
 "nbformat": 4,
 "nbformat_minor": 2
}
